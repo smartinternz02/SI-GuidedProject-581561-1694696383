{
  "nbformat": 4,
  "nbformat_minor": 0,
  "metadata": {
    "colab": {
      "provenance": []
    },
    "kernelspec": {
      "name": "python3",
      "display_name": "Python 3"
    },
    "language_info": {
      "name": "python"
    }
  },
  "cells": [
    {
      "cell_type": "code",
      "execution_count": 1,
      "metadata": {
        "colab": {
          "base_uri": "https://localhost:8080/"
        },
        "id": "41Q8AjzZTjjT",
        "outputId": "39014a4d-114d-4929-f7fe-468252e72298"
      },
      "outputs": [
        {
          "output_type": "stream",
          "name": "stdout",
          "text": [
            "   Feature1  Feature2  Feature3  Feature4\n",
            "0  0.125962  0.368362  0.685747  0.678245\n",
            "1  0.693040  0.135312  0.692427  0.809620\n",
            "2  0.912669  0.805870  0.048416  0.772607\n",
            "3  0.139800  0.599879  0.019941  0.602999\n"
          ]
        }
      ],
      "source": [
        "import pandas as pd\n",
        "import numpy as np\n",
        "data = np.random.rand(4, 4)\n",
        "columns = ['Feature1', 'Feature2', 'Feature3', 'Feature4']\n",
        "df = pd.DataFrame(data, columns=columns)\n",
        "print(df)\n"
      ]
    },
    {
      "cell_type": "code",
      "source": [
        "df.columns = ['Random value 1', 'Random value 2', 'Random value 3', 'Random value 4']\n",
        "print(df)\n"
      ],
      "metadata": {
        "colab": {
          "base_uri": "https://localhost:8080/"
        },
        "id": "wy4Yq0KRT4m-",
        "outputId": "c12af7a4-fcf7-438e-d931-db7b9826b981"
      },
      "execution_count": 2,
      "outputs": [
        {
          "output_type": "stream",
          "name": "stdout",
          "text": [
            "   Random value 1  Random value 2  Random value 3  Random value 4\n",
            "0        0.125962        0.368362        0.685747        0.678245\n",
            "1        0.693040        0.135312        0.692427        0.809620\n",
            "2        0.912669        0.805870        0.048416        0.772607\n",
            "3        0.139800        0.599879        0.019941        0.602999\n"
          ]
        }
      ]
    },
    {
      "cell_type": "code",
      "source": [
        "descriptive_stats = df.describe()\n",
        "print(descriptive_stats)\n"
      ],
      "metadata": {
        "colab": {
          "base_uri": "https://localhost:8080/"
        },
        "id": "fVvT_Sh0UBeA",
        "outputId": "ce477989-d217-4b24-c635-f18e9a066811"
      },
      "execution_count": 3,
      "outputs": [
        {
          "output_type": "stream",
          "name": "stdout",
          "text": [
            "       Random value 1  Random value 2  Random value 3  Random value 4\n",
            "count        4.000000        4.000000        4.000000        4.000000\n",
            "mean         0.467868        0.477356        0.361633        0.715868\n",
            "std          0.397106        0.289716        0.378300        0.093387\n",
            "min          0.125962        0.135312        0.019941        0.602999\n",
            "25%          0.136340        0.310100        0.041297        0.659433\n",
            "50%          0.416420        0.484121        0.367081        0.725426\n",
            "75%          0.747947        0.651377        0.687417        0.781860\n",
            "max          0.912669        0.805870        0.692427        0.809620\n"
          ]
        }
      ]
    },
    {
      "cell_type": "code",
      "source": [
        "null_values = df.isnull().sum()\n",
        "data_types = df.dtypes\n",
        "print(\"Null Values:\")\n",
        "print(null_values)\n",
        "print(\"\\nData Types:\")\n",
        "print(data_types)"
      ],
      "metadata": {
        "colab": {
          "base_uri": "https://localhost:8080/"
        },
        "id": "STmE_yfhUOUF",
        "outputId": "76ff6797-9ca1-464e-e734-2b65e28fe01b"
      },
      "execution_count": 4,
      "outputs": [
        {
          "output_type": "stream",
          "name": "stdout",
          "text": [
            "Null Values:\n",
            "Random value 1    0\n",
            "Random value 2    0\n",
            "Random value 3    0\n",
            "Random value 4    0\n",
            "dtype: int64\n",
            "\n",
            "Data Types:\n",
            "Random value 1    float64\n",
            "Random value 2    float64\n",
            "Random value 3    float64\n",
            "Random value 4    float64\n",
            "dtype: object\n"
          ]
        }
      ]
    },
    {
      "cell_type": "code",
      "source": [
        "selected_columns_loc = df.loc[:, ['Random value 2', 'Random value 3']]\n",
        "print(selected_columns_loc)"
      ],
      "metadata": {
        "colab": {
          "base_uri": "https://localhost:8080/"
        },
        "id": "B4n0iiGCUX4W",
        "outputId": "6af6b1c1-1873-4f8f-fb86-37287e33653d"
      },
      "execution_count": 5,
      "outputs": [
        {
          "output_type": "stream",
          "name": "stdout",
          "text": [
            "   Random value 2  Random value 3\n",
            "0        0.368362        0.685747\n",
            "1        0.135312        0.692427\n",
            "2        0.805870        0.048416\n",
            "3        0.599879        0.019941\n"
          ]
        }
      ]
    },
    {
      "cell_type": "code",
      "source": [
        "selected_columns_index = df.iloc[:, [1, 2]]  # Column indices 1 and 2 correspond to 'Random value 2' and 'Random value 3'\n",
        "print(selected_columns_index)"
      ],
      "metadata": {
        "colab": {
          "base_uri": "https://localhost:8080/"
        },
        "id": "GyITrUd7UbF_",
        "outputId": "c24409d6-85d8-46eb-c2c3-b4f3d4713e4a"
      },
      "execution_count": 6,
      "outputs": [
        {
          "output_type": "stream",
          "name": "stdout",
          "text": [
            "   Random value 2  Random value 3\n",
            "0        0.368362        0.685747\n",
            "1        0.135312        0.692427\n",
            "2        0.805870        0.048416\n",
            "3        0.599879        0.019941\n"
          ]
        }
      ]
    }
  ]
}